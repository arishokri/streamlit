{
 "cells": [
  {
   "cell_type": "code",
   "execution_count": null,
   "metadata": {},
   "outputs": [],
   "source": [
    "file_1 = 'knowledge_base/Ari Shokri.pdf'\n",
    "file_2 = 'knowledge_base/Isaacson, Walter - Elon Musk (2023).pdf'\n",
    "file_3 = 'knowledge_base/top_100_acc_firms.pdf'"
   ]
  },
  {
   "cell_type": "markdown",
   "metadata": {},
   "source": [
    "### Using PyMuPDF\n",
    "\n",
    "This so far has been the fastest loader."
   ]
  },
  {
   "cell_type": "code",
   "execution_count": null,
   "metadata": {},
   "outputs": [],
   "source": [
    "# This has been the fastest option for PDF with no image.\n",
    "from langchain_community.document_loaders import PyMuPDFLoader\n",
    "\n",
    "loader = PyMuPDFLoader(file_3, extract_images=False)\n",
    "docs = loader.load()"
   ]
  },
  {
   "cell_type": "markdown",
   "metadata": {},
   "source": [
    "### Using PDF Miner"
   ]
  },
  {
   "cell_type": "code",
   "execution_count": null,
   "metadata": {},
   "outputs": [],
   "source": [
    "from langchain_community.document_loaders import PDFMinerLoader\n",
    "\n",
    "loader = PDFMinerLoader(file_3)\n",
    "data = loader.load()"
   ]
  },
  {
   "cell_type": "markdown",
   "metadata": {},
   "source": [
    "### Using PyPDF\n",
    "\n",
    "This provides fairly reasonable speed and reasonable quality of parsing table information."
   ]
  },
  {
   "cell_type": "code",
   "execution_count": null,
   "metadata": {},
   "outputs": [],
   "source": [
    "from langchain_community.document_loaders import PyPDFLoader\n",
    "\n",
    "loader = PyPDFLoader(file_3, extract_images=False)\n",
    "docs = loader.load()"
   ]
  },
  {
   "cell_type": "markdown",
   "metadata": {},
   "source": [
    "### Using Unstructured.\n",
    "\n",
    "You first need to install a good number of packages for this.\n",
    "\n",
    "The OCR results for a document with images is simply exquisite. However it takes signifiantly longer than PyMUPDF.\n",
    "\n",
    "It also returns all the results as one page for some reason."
   ]
  },
  {
   "cell_type": "code",
   "execution_count": null,
   "metadata": {},
   "outputs": [],
   "source": [
    "%conda install poppler tesseract\n",
    "%pip install unstructured_pytesseract"
   ]
  },
  {
   "cell_type": "code",
   "execution_count": null,
   "metadata": {},
   "outputs": [],
   "source": [
    "from langchain_community.document_loaders import UnstructuredPDFLoader\n",
    "\n",
    "loader = UnstructuredPDFLoader(file_2)\n",
    "docs = loader.load()"
   ]
  },
  {
   "cell_type": "code",
   "execution_count": null,
   "metadata": {},
   "outputs": [],
   "source": [
    "print(len(docs), '\\n')\n",
    "print(docs[0].dict().keys(), '\\n')\n",
    "for index, parsed in enumerate(docs):\n",
    "    print(f'Page#{index+1}\\nType: {parsed.type}\\nContent:\\n{parsed.page_content}\\n\\n')"
   ]
  },
  {
   "cell_type": "markdown",
   "metadata": {},
   "source": [
    "### Using PDFPlumber\n",
    "\n",
    "You can use itertools.islice with a generator function like parser() to only parse through a specific number of pages."
   ]
  },
  {
   "cell_type": "code",
   "execution_count": null,
   "metadata": {},
   "outputs": [],
   "source": [
    "from itertools import islice\n",
    "from langchain_community.document_loaders.parsers import PDFPlumberParser\n",
    "from langchain_community.document_loaders.blob_loaders import Blob\n",
    "\n",
    "def read_pdfs(file_path, extract_images=False):\n",
    "    with open(file_path, 'rb') as f:\n",
    "        blob = Blob(data=f.read(), source=file_path)\n",
    "    parser = PDFPlumberParser(extract_images=extract_images)\n",
    "    return parser.lazy_parse(blob)\n",
    "\n",
    "parser = read_pdfs(file_3, extract_images=False)\n",
    "\n",
    "for parsed in islice(parser, 1):\n",
    "    print(parsed.page_content)"
   ]
  }
 ],
 "metadata": {
  "kernelspec": {
   "display_name": "base",
   "language": "python",
   "name": "python3"
  },
  "language_info": {
   "codemirror_mode": {
    "name": "ipython",
    "version": 3
   },
   "file_extension": ".py",
   "mimetype": "text/x-python",
   "name": "python",
   "nbconvert_exporter": "python",
   "pygments_lexer": "ipython3",
   "version": "3.10.14"
  }
 },
 "nbformat": 4,
 "nbformat_minor": 2
}
